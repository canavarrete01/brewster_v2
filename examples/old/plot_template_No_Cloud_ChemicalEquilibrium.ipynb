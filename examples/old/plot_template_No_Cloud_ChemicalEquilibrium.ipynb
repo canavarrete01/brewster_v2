{
 "cells": [
  {
   "cell_type": "code",
   "execution_count": null,
   "metadata": {
    "collapsed": false
   },
   "outputs": [],
   "source": [
    "import matplotlib as mpl\n",
    "import matplotlib.pyplot as plt\n",
    "import matplotlib.image as mgimg\n",
    "import scipy as sp\n",
    "import numpy as np\n",
    "import emcee\n",
    "import testkit\n",
    "import corner\n",
    "import pickle as pickle\n",
    "from IPython.display import display\n",
    "%matplotlib inline\n",
    "import forwardmodel\n",
    "import ciamod\n",
    "import TPmod\n",
    "import cloud\n",
    "import band\n",
    "import brewtools\n",
    "from astropy.convolution import convolve, convolve_fft\n",
    "from astropy.convolution import Gaussian1DKernel\n",
    "from scipy.io.idl import readsav\n",
    "from scipy import interpolate\n",
    "from scipy.interpolate import interp1d\n",
    "from scipy.interpolate import InterpolatedUnivariateSpline\n",
    "from bensconv import spex_non_uniform\n",
    "from bensconv import conv_uniform_R\n",
    "from bensconv import conv_uniform_FWHM"
   ]
  },
  {
   "cell_type": "markdown",
   "metadata": {},
   "source": [
    "## First step is to load the results file and the run arguments.\n",
    "We open the files and select the last couple of thousand iterations of the chain, and flatted this into a simple array of state vectors called \"samples\""
   ]
  },
  {
   "cell_type": "code",
   "execution_count": null,
   "metadata": {
    "collapsed": false
   },
   "outputs": [],
   "source": [
    "#path = \"/you/can/add/a/path/to/your/results/files\"\n",
    "runname = \"<yourrunname>\"\n",
    "# OK finish? 1 for yes, 0 for no.\n",
    "fin = 0\n",
    "flatendchain, flatendprobs,ndim = brewtools.get_endchain(runname,fin)\n",
    "theta_max_end = flatendchain[np.argmax(flatendprobs)]\n",
    "max_end_like = np.amax(flatendprobs)\n",
    "samples = flatendchain\n",
    "\n",
    "argfile =runname+\"_runargs.pic\"\n",
    "\n",
    "runargs = brewtools.pickle_load(argfile)\n",
    "# If you're opening on a Linux box, use the code below\n",
    "#with open(argfile, 'rb') as input:\n",
    "#    runargs = pickle.load(input) \n",
    "\n",
    "gases_myP,chemeq,dist, cloudtype,do_clouds,gasnum,cloudnum,inlinetemps,coarsePress,press,inwavenum,linelist,cia,ciatemps,use_disort,fwhm,obspec,proftype,do_fudge, prof,do_bff,bff_raw,ceTgrid,metscale,coscale = runargs\n",
    "\n"
   ]
  },
  {
   "cell_type": "markdown",
   "metadata": {},
   "source": [
    "Then we print the max likelihood value for the state vector, just to have a look at it\n"
   ]
  },
  {
   "cell_type": "code",
   "execution_count": null,
   "metadata": {
    "collapsed": false
   },
   "outputs": [],
   "source": [
    "print(theta_max_end)"
   ]
  },
  {
   "cell_type": "markdown",
   "metadata": {},
   "source": [
    "And print the BIC for this run. You might want to take a note of this.\n"
   ]
  },
  {
   "cell_type": "code",
   "execution_count": null,
   "metadata": {
    "collapsed": false
   },
   "outputs": [],
   "source": [
    "BIC = (-2.* max_end_like) + (ndim*np.log(obspec.shape[1]))\n",
    "print(\"BIC = \"+str(BIC))"
   ]
  },
  {
   "cell_type": "markdown",
   "metadata": {},
   "source": [
    "# Next we want to plot the profile. \n",
    "\n",
    "We start by calculating the profiles from the temperature parameters in the samples array.\n",
    "\n",
    "This case assumes a type 2 profile.\n"
   ]
  },
  {
   "cell_type": "code",
   "execution_count": null,
   "metadata": {
    "collapsed": false
   },
   "outputs": [],
   "source": [
    "Tsamples = samples[:,ndim-5:]\n",
    "nsamps = Tsamples.shape[0]\n",
    "Tprofs = np.empty([64,Tsamples.shape[0]])\n",
    "for i in range(0,nsamps):\n",
    "    Tprofs[:,i] = TPmod.set_prof(2,coarsePress,press,Tsamples[i,:])\n",
    "    \n",
    "Tlays = np.empty([64,5])\n",
    "for i in range(0,64):\n",
    "    junk = Tprofs[i,:]\n",
    "    junk2 = np.percentile(junk, [2.4,16, 50, 84,97.6],axis=0)\n",
    "    junk3 = np.array(junk2)\n",
    "    Tlays[i,:] = junk3[:]\n",
    "    "
   ]
  },
  {
   "cell_type": "markdown",
   "metadata": {},
   "source": [
    "Now we can plot it..."
   ]
  },
  {
   "cell_type": "code",
   "execution_count": null,
   "metadata": {
    "collapsed": false
   },
   "outputs": [],
   "source": [
    "plt.rc('font',family='Times New Roman')\n",
    "fig=plt.figure(dpi=320)\n",
    "plt.axis([0., 4000.,3.0,-5.0])\n",
    "\n",
    "logP = np.log10(press)\n",
    "\n",
    "d1, = plt.plot(Tlays[:,2],logP,'k-',label=runname)\n",
    "plt.fill_betweenx(logP,Tlays[:,1], Tlays[:,3], facecolor='red', alpha=0.3)\n",
    "plt.fill_betweenx(logP,Tlays[:,0], Tlays[:,4], facecolor='red', alpha=0.1)\n",
    "\n",
    "\n",
    "\n",
    "# Here are some condensation curves\n",
    "\n",
    "enst = 10.0**4/(6.26 - 0.35*logP-0.70*0.0)\n",
    "fost = 10.0**4/(5.89 - 0.37*logP-0.73*0.0)\n",
    "iron = 10.0**4/(5.44 - 0.48*logP-0.48*0.0)\n",
    "cr =  10.0**4/(6.528 - 0.491*logP-0.491*0.0)\n",
    "al2o3 = 10.0**4 / (5.0139 - 0.21794*(logP) + 2.2636E-03*(logP)**2.0 - 0.580*0.0)\n",
    "c1, = plt.plot(enst,logP,'--',color='blue',linewidth=1.5, label='MgSiO$_3$')\n",
    "c2, = plt.plot(fost,logP,'--',color='pink',linewidth=1.5,label='Mg$_2$SiO$_4$')\n",
    "c3, = plt.plot(iron,logP,'--',color='orange',linewidth=1.5, label='Fe')\n",
    "c4, = plt.plot(cr,logP,'--',color='purple',linewidth=1.5, label='Cr')\n",
    "c5, = plt.plot(al2o3,logP,'--',color='red',linewidth=1.5, label='Al$_2$O$_3$')\n",
    "\n",
    "plt.legend(handles=[d1,c4,c1,c2,c3,c5])\n",
    "plt.ylabel(r'log(P / bar)')\n",
    "plt.xlabel('T / K')\n",
    "\n",
    "#plt.savefig(runname+\"_profile.png\",format='png', dpi=320)"
   ]
  },
  {
   "cell_type": "code",
   "execution_count": null,
   "metadata": {
    "collapsed": true
   },
   "outputs": [],
   "source": [
    "# Save the median profile\n",
    "np.savetxt(runname+'_profile.dat', np.c_[logP, Tlays[:,2]])"
   ]
  },
  {
   "cell_type": "markdown",
   "metadata": {},
   "source": [
    "Now we plot the gravity and composition parameters in a corner plot"
   ]
  },
  {
   "cell_type": "code",
   "execution_count": null,
   "metadata": {
    "collapsed": false,
    "scrolled": false
   },
   "outputs": [],
   "source": [
    "gassamples = samples[:,0:3]\n",
    "rmet = (-1.0, +2.0)\n",
    "rco = (0, 2)\n",
    "rlogg = (3.5,5.5)\n",
    "bnds = [rmet,rco,rlogg]\n",
    "\n",
    "fig = corner.corner(gassamples,scale_hist=False, range = bnds,plot_datapoints =False,labels=[\"[Fe/H]\",\"[C/O]\",\"logg\"],quantiles=[0.16, 0.5, 0.84],show_titles=True, title_kwargs={\"fontsize\": 20},label_kwargs={\"fontsize\": 20})\n",
    "\n",
    "#plt.savefig(runname+\"_gascorner.png\",format='png', dpi=320)"
   ]
  },
  {
   "cell_type": "markdown",
   "metadata": {},
   "source": [
    "# Plotting the model spectra\n",
    "To plot the model spectra we need to rerun the model, and rerun it for a bunch of random draws from the posterior. This will allow us to plot either a spaghetti plot, or a median + interval spectrum"
   ]
  },
  {
   "cell_type": "code",
   "execution_count": null,
   "metadata": {
    "collapsed": false
   },
   "outputs": [],
   "source": [
    "# get diagnostics along with the spectrum\n",
    "gnostics = 0\n",
    "# Now run the model again to get your model spectrum and process to make it look like the data\n",
    "shiftspec, photspec, tauspec,cfunc = testkit.modelspec(theta_max_end,runargs,gnostics)\n",
    "topspec = brewtools.proc_spec(shiftspec,theta_max_end,fwhm,chemeq,gasnum,obspec) "
   ]
  },
  {
   "cell_type": "code",
   "execution_count": null,
   "metadata": {
    "collapsed": false
   },
   "outputs": [],
   "source": [
    "# Now grab 500 random draws from the posterior\n",
    "pltspec = np.zeros((500,obspec[0,:].size))\n",
    "samp= np.empty(ndim)\n",
    "samples = flatendchain\n",
    "sid = np.zeros(500)\n",
    "for i in range (0,500):\n",
    "    sid[i]= np.random.randint(0,high = len(samples))\n",
    "    samp = samples[int(sid[i]),:]\n",
    "    shiftspec, photspec, tauspec,cfunc = testkit.modelspec(samp,runargs,gnostics)\n",
    "    pltspec[i,:] = brewtools.proc_spec(shiftspec,samp,fwhm,chemeq,gasnum,obspec) \n",
    "\n",
    "# get the intervals for the distribution of model spectra\n",
    "specdist = np.empty([obspec[0].size,5])\n",
    "for i in range(0,obspec[0].size):\n",
    "    junk = pltspec[:,i]\n",
    "    junk2 = np.percentile(junk, [2.4,16, 50, 84,97.6],axis=0)\n",
    "    junk3 = np.array(junk2)\n",
    "    specdist[i,:] = junk3[:]"
   ]
  },
  {
   "cell_type": "code",
   "execution_count": null,
   "metadata": {
    "collapsed": false
   },
   "outputs": [],
   "source": [
    "# plot the spectra\n",
    "plt.rc('font',family='Times New Roman')\n",
    "fig=plt.figure(dpi=320)\n",
    "plt.axis([1.0,2.5,0,1e-14])\n",
    "# you can swap in the lines below for a log plot\n",
    "#plt.axis([0.6,15.0, 1.e-17,150e-15])\n",
    "\n",
    "#ax = fig.add_subplot(1,1,1)\n",
    "\n",
    "#ax.set_yscale('log')\n",
    "#ax.set_xscale('log')\n",
    "\n",
    "# add in below lines for spaghetti plot\n",
    "#for i in range(0,500):\n",
    "#    plt.plot(obspec[0],pltspec[i,:],color='r',alpha=0.01)\n",
    "\n",
    "t1, = plt.plot(obspec[0,:],topspec,'g-',linewidth=1, label = \"max likelihood\")\n",
    "d1, = plt.plot(obspec[0,:],obspec[1,:],'k-',label = runname+\" data\")\n",
    "#plt.fill_between(obspec[0,:],obspec[1,:]-obspec[2,:],obspec[1,:]+obspec[2,:],facecolor='red',alpha=0.2)\n",
    "\n",
    "r1, = plt.plot(obspec[0],specdist[:,2],'y-',linewidth=0.5, label = \"median\")\n",
    "plt.fill_between(obspec[0],specdist[:,0],specdist[:,4],facecolor='red',alpha=0.2)\n",
    "plt.fill_between(obspec[0],specdist[:,1],specdist[:,3],facecolor='red',alpha=0.5)\n",
    "\n",
    "\n",
    "plt.legend(handles=[d1,t1,r1])\n",
    "\n",
    "\n",
    "plt.ylabel(r'$ F_{\\lambda}$ / $Wm^{-2} \\mu m^{-1}$')\n",
    "plt.xlabel('Wavelength / $\\mu m$')\n",
    "#plt.savefig(runname+\"_SPAG_SPEC.png\",format='png', dpi=320)"
   ]
  },
  {
   "cell_type": "code",
   "execution_count": null,
   "metadata": {
    "collapsed": true
   },
   "outputs": [],
   "source": [
    "# Save you  model spectra\n",
    "np.savetxt(runname+'_MEDIAN_SPEC.dat', np.c_[obspec[0,:],specdist[:,2],specdist[:,1],specdist[:,3]])\n",
    "np.savetxt(runname+'_MAX_LIKE_SPEC.dat', np.c_[obspec[0,:],topspec])np.savetxt(runname+'_MEDIAN_SPEC.dat', np.c_[obspec[0,:],specdist[:,2],specdist[:,1],specdist[:,3]])"
   ]
  },
  {
   "cell_type": "markdown",
   "metadata": {},
   "source": [
    "# Contribution function\n",
    "Finally, the contribution function. This is a really useful plot..."
   ]
  },
  {
   "cell_type": "code",
   "execution_count": null,
   "metadata": {
    "collapsed": true
   },
   "outputs": [],
   "source": [
    "# get diagnostics along with the spectrum\n",
    "gnostics = 1\n",
    "shiftspec, clphotspec, ophotspec,cfunc = testkit.modelspec(theta_max_end,runargs,gnostics)\n",
    "\n",
    "nwave = inwavenum.size\n",
    "cfunc = np.reshape(cfunc,[cfunc.shape[1],cfunc.shape[2]])\n",
    "fwhm = 0.005\n",
    "wlen = shiftspec.shape[1]\n",
    "wint =  shiftspec[0,0] - shiftspec[0,wlen-1]\n",
    "# convolve with instrumental profile\n",
    "# start by setting up kernel\n",
    "# First step is finding the array index length of the FWHM\n",
    "disp = wint / wlen\n",
    "gwidth = int((((fwhm / disp) // 2) * 2) +1)\n",
    "# needs to be odd\n",
    "# now get the kernel and convolve\n",
    "gauss = Gaussian1DKernel(gwidth)\n",
    "\n",
    "for ilayer in range (0,press.size):\n",
    "    cfunc[:,ilayer] = convolve(cfunc[:,ilayer],gauss,boundary='extend')\n",
    "\n",
    "tau1_cl_Press = convolve(clphotspec[0],gauss,boundary='extend')[::-1]\n",
    "tau1_oth_Press = convolve(ophotspec[0],gauss,boundary='extend')[::-1]\n",
    "    \n",
    "wavenew = shiftspec[0,::-1]\n",
    "press = press.reshape(64,)\n",
    "normfunc = np.zeros_like(cfunc)\n",
    "for iwave in range(0,nwave):\n",
    "    totcont = np.sum(cfunc[iwave,:])\n",
    "    normfunc[iwave,:] = cfunc[iwave,:] / totcont\n",
    "\n",
    "    \n",
    "plt.rc('font', family='serif')\n",
    "plt.rc('text', usetex=False)\n",
    "fig=plt.figure(dpi=120)\n",
    "plt.axis([1.0,15.0,1000,1e-5])\n",
    "\n",
    "ax = fig.add_subplot(1,1,1)\n",
    "\n",
    "ax.set_yscale('log')\n",
    "ax.set_xscale('log')\n",
    "#major_ticks = np.arange(1.0,15.,1.0)\n",
    "#minor_ticks = np.arange(1.0,15.,0.5)\n",
    "#ax.set_xticks(major_ticks)                                                       \n",
    "#ax.set_xticks(minor_ticks, minor=True)                                           \n",
    "\n",
    "plt.pcolormesh(wavenew,press,(normfunc[::-1,:].transpose()),cmap='Greys',norm=colors.SymLogNorm(linthresh=0.001,linscale=0.00001,\n",
    "                                              vmin=0., vmax=np.amax(normfunc)))\n",
    "\n",
    "#t1, = plt.plot(wavenew,(tau1_cl_Press),'m-',label=r'$\\tau_{cloud} = 1.0$')\n",
    "t2, = plt.plot(wavenew,(tau1_oth_Press),'c-', label =r'$\\tau_{gas} = 1.0$')\n",
    "\n",
    "plt.legend(handles=[t2])\n",
    "\n",
    "cbar = plt.colorbar(orientation='vertical',norm=colors.Normalize(clip=False),ticks=[1e-3,1e-2,0.1])\n",
    "cbar.ax.set_yticklabels(['<0.1%', '1%', '10%'])\n",
    "cbar.set_label('% of total', rotation=270)\n",
    "plt.ylabel('Pressure / bar)')\n",
    "plt.xlabel('Wavelength / $\\mu m$')\n",
    "#plt.savefig(runname+'_contribution.png',format='png', dpi=120)"
   ]
  },
  {
   "cell_type": "code",
   "execution_count": null,
   "metadata": {
    "collapsed": true
   },
   "outputs": [],
   "source": []
  },
  {
   "cell_type": "code",
   "execution_count": null,
   "metadata": {
    "collapsed": true
   },
   "outputs": [],
   "source": []
  },
  {
   "cell_type": "code",
   "execution_count": null,
   "metadata": {
    "collapsed": true
   },
   "outputs": [],
   "source": []
  }
 ],
 "metadata": {
  "kernelspec": {
   "display_name": "Python 3",
   "language": "python",
   "name": "python3"
  },
  "language_info": {
   "codemirror_mode": {
    "name": "ipython",
    "version": 3
   },
   "file_extension": ".py",
   "mimetype": "text/x-python",
   "name": "python",
   "nbconvert_exporter": "python",
   "pygments_lexer": "ipython3",
   "version": "3.6.0"
  }
 },
 "nbformat": 4,
 "nbformat_minor": 0
}
